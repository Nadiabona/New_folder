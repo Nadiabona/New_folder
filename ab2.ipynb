{
  "nbformat": 4,
  "nbformat_minor": 0,
  "metadata": {
    "colab": {
      "provenance": [],
      "include_colab_link": true
    },
    "kernelspec": {
      "name": "python3",
      "display_name": "Python 3"
    },
    "language_info": {
      "name": "python"
    }
  },
  "cells": [
    {
      "cell_type": "markdown",
      "metadata": {
        "id": "view-in-github",
        "colab_type": "text"
      },
      "source": [
        "<a href=\"https://colab.research.google.com/github/Nadiabona/New_folder/blob/main/ab2.ipynb\" target=\"_parent\"><img src=\"https://colab.research.google.com/assets/colab-badge.svg\" alt=\"Open In Colab\"/></a>"
      ]
    },
    {
      "cell_type": "code",
      "execution_count": null,
      "metadata": {
        "id": "0JAr3XqBB4w1"
      },
      "outputs": [],
      "source": [
        "import pandas as pd\n",
        "import numpy as np\n",
        "from scipy import stats\n"
      ]
    },
    {
      "cell_type": "code",
      "source": [
        "e = pd.read_excel(\"/content/Домашнее задание (исходник).xlsx\")\n",
        "eg = e.groupby(by=[\"animal\",'species']).agg(cnt_check=(\"check\",\"count\"),avg_check=(\"check\",\"mean\"), var_check=(\"check\",\"var\"))\n",
        "eg"
      ],
      "metadata": {
        "colab": {
          "base_uri": "https://localhost:8080/",
          "height": 300
        },
        "id": "M0dBar-5GZwx",
        "outputId": "7c36f816-79ed-4f2b-c436-630e95660124"
      },
      "execution_count": null,
      "outputs": [
        {
          "output_type": "execute_result",
          "data": {
            "text/plain": [
              "                                             cnt_check     avg_check  \\\n",
              "animal                species                                          \n",
              "Кошка                 Домашняя обыкновенная       1037  26252.648987   \n",
              "                      Домашняя породистая          375  27404.896000   \n",
              "                      Уличная                      598  24168.826087   \n",
              "Собака                Домашняя обыкновенная        920  26733.493478   \n",
              "                      Домашняя породистая          249  20443.963855   \n",
              "                      Уличная                      774  25679.635659   \n",
              "Экзотическое животное Экзотическое животное        893  28748.667413   \n",
              "\n",
              "                                                var_check  \n",
              "animal                species                              \n",
              "Кошка                 Домашняя обыкновенная  1.386448e+09  \n",
              "                      Домашняя породистая    1.250974e+09  \n",
              "                      Уличная                1.625214e+09  \n",
              "Собака                Домашняя обыкновенная  6.085533e+08  \n",
              "                      Домашняя породистая    7.048466e+08  \n",
              "                      Уличная                5.981058e+08  \n",
              "Экзотическое животное Экзотическое животное  1.461484e+09  "
            ],
            "text/html": [
              "\n",
              "  <div id=\"df-6e9bfb5f-5536-488b-8963-ab9d88962d8d\">\n",
              "    <div class=\"colab-df-container\">\n",
              "      <div>\n",
              "<style scoped>\n",
              "    .dataframe tbody tr th:only-of-type {\n",
              "        vertical-align: middle;\n",
              "    }\n",
              "\n",
              "    .dataframe tbody tr th {\n",
              "        vertical-align: top;\n",
              "    }\n",
              "\n",
              "    .dataframe thead th {\n",
              "        text-align: right;\n",
              "    }\n",
              "</style>\n",
              "<table border=\"1\" class=\"dataframe\">\n",
              "  <thead>\n",
              "    <tr style=\"text-align: right;\">\n",
              "      <th></th>\n",
              "      <th></th>\n",
              "      <th>cnt_check</th>\n",
              "      <th>avg_check</th>\n",
              "      <th>var_check</th>\n",
              "    </tr>\n",
              "    <tr>\n",
              "      <th>animal</th>\n",
              "      <th>species</th>\n",
              "      <th></th>\n",
              "      <th></th>\n",
              "      <th></th>\n",
              "    </tr>\n",
              "  </thead>\n",
              "  <tbody>\n",
              "    <tr>\n",
              "      <th rowspan=\"3\" valign=\"top\">Кошка</th>\n",
              "      <th>Домашняя обыкновенная</th>\n",
              "      <td>1037</td>\n",
              "      <td>26252.648987</td>\n",
              "      <td>1.386448e+09</td>\n",
              "    </tr>\n",
              "    <tr>\n",
              "      <th>Домашняя породистая</th>\n",
              "      <td>375</td>\n",
              "      <td>27404.896000</td>\n",
              "      <td>1.250974e+09</td>\n",
              "    </tr>\n",
              "    <tr>\n",
              "      <th>Уличная</th>\n",
              "      <td>598</td>\n",
              "      <td>24168.826087</td>\n",
              "      <td>1.625214e+09</td>\n",
              "    </tr>\n",
              "    <tr>\n",
              "      <th rowspan=\"3\" valign=\"top\">Собака</th>\n",
              "      <th>Домашняя обыкновенная</th>\n",
              "      <td>920</td>\n",
              "      <td>26733.493478</td>\n",
              "      <td>6.085533e+08</td>\n",
              "    </tr>\n",
              "    <tr>\n",
              "      <th>Домашняя породистая</th>\n",
              "      <td>249</td>\n",
              "      <td>20443.963855</td>\n",
              "      <td>7.048466e+08</td>\n",
              "    </tr>\n",
              "    <tr>\n",
              "      <th>Уличная</th>\n",
              "      <td>774</td>\n",
              "      <td>25679.635659</td>\n",
              "      <td>5.981058e+08</td>\n",
              "    </tr>\n",
              "    <tr>\n",
              "      <th>Экзотическое животное</th>\n",
              "      <th>Экзотическое животное</th>\n",
              "      <td>893</td>\n",
              "      <td>28748.667413</td>\n",
              "      <td>1.461484e+09</td>\n",
              "    </tr>\n",
              "  </tbody>\n",
              "</table>\n",
              "</div>\n",
              "      <button class=\"colab-df-convert\" onclick=\"convertToInteractive('df-6e9bfb5f-5536-488b-8963-ab9d88962d8d')\"\n",
              "              title=\"Convert this dataframe to an interactive table.\"\n",
              "              style=\"display:none;\">\n",
              "        \n",
              "  <svg xmlns=\"http://www.w3.org/2000/svg\" height=\"24px\"viewBox=\"0 0 24 24\"\n",
              "       width=\"24px\">\n",
              "    <path d=\"M0 0h24v24H0V0z\" fill=\"none\"/>\n",
              "    <path d=\"M18.56 5.44l.94 2.06.94-2.06 2.06-.94-2.06-.94-.94-2.06-.94 2.06-2.06.94zm-11 1L8.5 8.5l.94-2.06 2.06-.94-2.06-.94L8.5 2.5l-.94 2.06-2.06.94zm10 10l.94 2.06.94-2.06 2.06-.94-2.06-.94-.94-2.06-.94 2.06-2.06.94z\"/><path d=\"M17.41 7.96l-1.37-1.37c-.4-.4-.92-.59-1.43-.59-.52 0-1.04.2-1.43.59L10.3 9.45l-7.72 7.72c-.78.78-.78 2.05 0 2.83L4 21.41c.39.39.9.59 1.41.59.51 0 1.02-.2 1.41-.59l7.78-7.78 2.81-2.81c.8-.78.8-2.07 0-2.86zM5.41 20L4 18.59l7.72-7.72 1.47 1.35L5.41 20z\"/>\n",
              "  </svg>\n",
              "      </button>\n",
              "      \n",
              "  <style>\n",
              "    .colab-df-container {\n",
              "      display:flex;\n",
              "      flex-wrap:wrap;\n",
              "      gap: 12px;\n",
              "    }\n",
              "\n",
              "    .colab-df-convert {\n",
              "      background-color: #E8F0FE;\n",
              "      border: none;\n",
              "      border-radius: 50%;\n",
              "      cursor: pointer;\n",
              "      display: none;\n",
              "      fill: #1967D2;\n",
              "      height: 32px;\n",
              "      padding: 0 0 0 0;\n",
              "      width: 32px;\n",
              "    }\n",
              "\n",
              "    .colab-df-convert:hover {\n",
              "      background-color: #E2EBFA;\n",
              "      box-shadow: 0px 1px 2px rgba(60, 64, 67, 0.3), 0px 1px 3px 1px rgba(60, 64, 67, 0.15);\n",
              "      fill: #174EA6;\n",
              "    }\n",
              "\n",
              "    [theme=dark] .colab-df-convert {\n",
              "      background-color: #3B4455;\n",
              "      fill: #D2E3FC;\n",
              "    }\n",
              "\n",
              "    [theme=dark] .colab-df-convert:hover {\n",
              "      background-color: #434B5C;\n",
              "      box-shadow: 0px 1px 3px 1px rgba(0, 0, 0, 0.15);\n",
              "      filter: drop-shadow(0px 1px 2px rgba(0, 0, 0, 0.3));\n",
              "      fill: #FFFFFF;\n",
              "    }\n",
              "  </style>\n",
              "\n",
              "      <script>\n",
              "        const buttonEl =\n",
              "          document.querySelector('#df-6e9bfb5f-5536-488b-8963-ab9d88962d8d button.colab-df-convert');\n",
              "        buttonEl.style.display =\n",
              "          google.colab.kernel.accessAllowed ? 'block' : 'none';\n",
              "\n",
              "        async function convertToInteractive(key) {\n",
              "          const element = document.querySelector('#df-6e9bfb5f-5536-488b-8963-ab9d88962d8d');\n",
              "          const dataTable =\n",
              "            await google.colab.kernel.invokeFunction('convertToInteractive',\n",
              "                                                     [key], {});\n",
              "          if (!dataTable) return;\n",
              "\n",
              "          const docLinkHtml = 'Like what you see? Visit the ' +\n",
              "            '<a target=\"_blank\" href=https://colab.research.google.com/notebooks/data_table.ipynb>data table notebook</a>'\n",
              "            + ' to learn more about interactive tables.';\n",
              "          element.innerHTML = '';\n",
              "          dataTable['output_type'] = 'display_data';\n",
              "          await google.colab.output.renderOutput(dataTable, element);\n",
              "          const docLink = document.createElement('div');\n",
              "          docLink.innerHTML = docLinkHtml;\n",
              "          element.appendChild(docLink);\n",
              "        }\n",
              "      </script>\n",
              "    </div>\n",
              "  </div>\n",
              "  "
            ]
          },
          "metadata": {},
          "execution_count": 48
        }
      ]
    },
    {
      "cell_type": "code",
      "source": [
        "a1 = 'Собака'\n",
        "a2 = 'Кошка'\n",
        "s, p = stats.ttest_ind(e[(e['animal'] == a1 )]['check'], e[(e['animal'] == a2 )]['check'])\n",
        "a1 + (\" незначительно\" if abs(s)< 1.96 else \"\") + (\" дороже \" if s > 0 else \" дешевле \") + f\"чем {a2}\""
      ],
      "metadata": {
        "colab": {
          "base_uri": "https://localhost:8080/",
          "height": 36
        },
        "id": "fXqjZfuTF1Xb",
        "outputId": "a3df8cad-16f0-47ac-8c3e-5cd307c173dd"
      },
      "execution_count": null,
      "outputs": [
        {
          "output_type": "execute_result",
          "data": {
            "text/plain": [
              "'Собака незначительно дешевле чем Кошка'"
            ],
            "application/vnd.google.colaboratory.intrinsic+json": {
              "type": "string"
            }
          },
          "metadata": {},
          "execution_count": 50
        }
      ]
    },
    {
      "cell_type": "code",
      "source": [
        "a1 = 'Экзотическое животное'\n",
        "a2 = 'Собака'\n",
        "s, p = stats.ttest_ind(e[(e['animal'] == a1 )]['check'], e[(e['animal'] == a2 )]['check'])\n",
        "a1 + (\" незначительно\" if abs(s)< 1.96 else \"\") + (\" дороже \" if s > 0 else \" дешевле \") + f\"чем {a2}\""
      ],
      "metadata": {
        "colab": {
          "base_uri": "https://localhost:8080/",
          "height": 36
        },
        "id": "0C7cLVvMUHty",
        "outputId": "60948d75-4399-4671-cc55-260539876390"
      },
      "execution_count": null,
      "outputs": [
        {
          "output_type": "execute_result",
          "data": {
            "text/plain": [
              "'Экзотическое животное дороже чем Собака'"
            ],
            "application/vnd.google.colaboratory.intrinsic+json": {
              "type": "string"
            }
          },
          "metadata": {},
          "execution_count": 51
        }
      ]
    },
    {
      "cell_type": "code",
      "source": [
        "a1 = 'Экзотическое животное'\n",
        "a2 = 'Кошка'\n",
        "s, p = stats.ttest_ind(e[(e['animal'] == a1 )]['check'], e[(e['animal'] == a2 )]['check'])\n",
        "a1 + (\" незначительно\" if abs(s)< 1.96 else \"\") + (\" дороже \" if s > 0 else \" дешевле \") + f\"чем {a2}\""
      ],
      "metadata": {
        "colab": {
          "base_uri": "https://localhost:8080/",
          "height": 36
        },
        "id": "HBKZ5MCSUPOX",
        "outputId": "50859dae-5264-47de-ae13-fac24f82719f"
      },
      "execution_count": null,
      "outputs": [
        {
          "output_type": "execute_result",
          "data": {
            "text/plain": [
              "'Экзотическое животное незначительно дороже чем Кошка'"
            ],
            "application/vnd.google.colaboratory.intrinsic+json": {
              "type": "string"
            }
          },
          "metadata": {},
          "execution_count": 52
        }
      ]
    },
    {
      "cell_type": "code",
      "source": [
        "a1 = 'Собака'\n",
        "a2 = 'Кошка'\n",
        "species = e[\"species\"].unique()\n",
        "for s1 in species:\n",
        "  for s2 in species:\n",
        "    s, p = stats.ttest_ind(e[(e['animal'] == a1 ) & (e['species'] == s1)]['check'], \n",
        "                           e[(e['animal'] == a2 ) & (e['species'] == s2)]['check'])\n",
        "    if s < -1.96:\n",
        "      print(s2,a2, \" дороже чем \", s1,a1)\n",
        "\n"
      ],
      "metadata": {
        "colab": {
          "base_uri": "https://localhost:8080/"
        },
        "id": "fHDMvMlrW8YL",
        "outputId": "00b3c891-c6c8-478f-ba83-b1dede85d4b9"
      },
      "execution_count": null,
      "outputs": [
        {
          "output_type": "stream",
          "name": "stdout",
          "text": [
            "Домашняя обыкновенная Кошка  дороже чем  Домашняя породистая Собака\n",
            "Домашняя породистая Кошка  дороже чем  Домашняя породистая Собака\n"
          ]
        }
      ]
    },
    {
      "cell_type": "code",
      "source": [
        "a1 = 'Экзотическое животное'\n",
        "a2 = 'Кошка'\n",
        "s2 = 'Домашняя породистая'\n",
        "s, p = stats.ttest_ind(e[(e['animal'] == a1 )]['check'], e[(e['animal'] == a2 ) & (e['species'] == s2) ]['check'])\n",
        "a1 + (\" незначительно\" if abs(s)< 1.96 else \"\") + (\" дороже \" if s > 0 else \" дешевле \") + f\"чем {a2} {s2}\""
      ],
      "metadata": {
        "colab": {
          "base_uri": "https://localhost:8080/",
          "height": 36
        },
        "id": "XCAt0kfoVald",
        "outputId": "95be93b7-4b0b-4f67-e4de-0fbb32763f5a"
      },
      "execution_count": null,
      "outputs": [
        {
          "output_type": "execute_result",
          "data": {
            "text/plain": [
              "'Экзотическое животное незначительно дороже чем Кошка Домашняя породистая'"
            ],
            "application/vnd.google.colaboratory.intrinsic+json": {
              "type": "string"
            }
          },
          "metadata": {},
          "execution_count": 54
        }
      ]
    }
  ]
}